{
 "cells": [
  {
   "cell_type": "code",
   "execution_count": 1,
   "id": "82e22220-5f30-475f-8f80-0ff87ae74266",
   "metadata": {},
   "outputs": [],
   "source": [
    "import string\n",
    "import numpy as np\n",
    "import matplotlib as plt\n",
    "from string import punctuation\n",
    "import math"
   ]
  },
  {
   "cell_type": "code",
   "execution_count": 2,
   "id": "0d8bbc75-2dd2-4730-a766-5927a64d380b",
   "metadata": {},
   "outputs": [],
   "source": [
    "class markovChain:\n",
    "    alphabet = string.ascii_lowercase\n",
    "    def __init__(self, file_name = \"\"):\n",
    "#         index for loopup certain word/letter\n",
    "#         trans_matrix for p(z_n|z_n-1)\n",
    "#         array of pairs of words/letters\n",
    "#         prior probability\n",
    "        self.index, self.trans_matrix, self.pairs, self.prior = 0, 0, 0, 0\n",
    "        self.train_data = self.get_file(file_name)\n",
    "        self.matrix_before = np.array([[0.001 for _ in range(26)] for _ in range(26)])\n",
    "        self.train()\n",
    "\n",
    "#   get the file as training set and return a list of unique word\n",
    "    def get_file(self, file_name):\n",
    "#       get the text from file and trimming special and numeric characters\n",
    "        text = ''\n",
    "        f = open(file_name, encoding='utf8')\n",
    "        text +=f.read()\n",
    "        text = text.replace('\\n',' ')\n",
    "        text = text.replace('\\t',' ')\n",
    "        text = text.replace('“', ' \" ')\n",
    "        text = text.replace('”', ' \" ')\n",
    "        for spaced in punctuation:\n",
    "            text = text.replace(spaced, ' {0} '.format(spaced))\n",
    "        for spaced in string.digits:\n",
    "            text = text.replace(spaced, ' {0} '.format(spaced))\n",
    "#       return training data\n",
    "        return np.unique(np.array([word.lower() for word in text.split(\" \") if word not in punctuation and word not in string.digits]))\n",
    "\n",
    "    def train(self):\n",
    "#       get the matrix\n",
    "        for word in self.train_data:\n",
    "            for i in range(1, len(word)):\n",
    "                if word[i] not in self.alphabet or word[i-1] not in self.alphabet:\n",
    "                    continue\n",
    "                self.matrix_before[self.alphabet.index(word[i-1])][self.alphabet.index(word[i])] += 1\n",
    "        self.matrix_before = np.log(self.matrix_before/self.matrix_before.sum(axis=1))\n",
    "        return self.matrix_before\n",
    "\n",
    "    def guess_word(self, hidden):\n",
    "        while \"_\" in hidden:\n",
    "            guess_loc = hidden.index('_')\n",
    "            if guess_loc == 0:\n",
    "                # print(self.alphabet[np.argmax(self.matrix_before, axis=0)[self.alphabet.index(hidden[1])]])\n",
    "                hidden = self.alphabet[np.argmax(self.matrix_before, axis=0)[self.alphabet.index(hidden[1])]] + hidden[1:]\n",
    "            elif guess_loc == len(hidden)-1:\n",
    "                hidden = hidden[:-1] + self.alphabet[np.argmax(self.matrix_before[self.alphabet.index(hidden[guess_loc-1])])]\n",
    "            elif hidden[guess_loc+1] != \"_\":\n",
    "                hint_begin, hint_end = self.alphabet.index(hidden[guess_loc-1]), self.alphabet.index(hidden[guess_loc+1])\n",
    "                guess = self.alphabet[np.argmax(np.array([self.matrix_before[hint_begin][i]+self.matrix_before[i][hint_end] for i in range(26)]))]\n",
    "                hidden = hidden[:guess_loc] + guess + hidden[guess_loc+1:]\n",
    "            elif guess_loc+2 == len(hidden):\n",
    "                hint_begin = self.alphabet.index(hidden[guess_loc-1])\n",
    "                matrix_temp = np.array([[self.matrix_before[hint_begin][i]+self.matrix_before[i][j] for i in range(26)] for j in range(26)])\n",
    "                r, c = np.unravel_index(np.argmax(matrix_temp, axis=None), matrix_temp.shape)\n",
    "                hidden = hidden[:guess_loc] + self.alphabet[r] + self.alphabet[c]\n",
    "            else:\n",
    "                hint_begin, hint_end = self.alphabet.index(hidden[guess_loc-1]), self.alphabet.index(hidden[guess_loc+2])\n",
    "                matrix_temp = np.array([[self.matrix_before[hint_begin][i]+self.matrix_before[i][j]+self.matrix_before[j][hint_end] for i in range(26)] for j in range(26)])\n",
    "                r, c = np.unravel_index(np.argmax(matrix_temp, axis=None), matrix_temp.shape)\n",
    "                hidden = hidden[:guess_loc] + self.alphabet[r] + self.alphabet[c] + hidden[guess_loc+2:]\n",
    "        return hidden\n",
    "    \n",
    "def miscalcRate(sentence, answer, missing):\n",
    "    miscalc = 0\n",
    "    if (len(sentence) != len(sentence)):\n",
    "        print(\"2 strings need to have same length\")\n",
    "        return\n",
    "    for i in range(len(sentence)):\n",
    "        if (sentence[i] != answer[i]):\n",
    "            miscalc+=1\n",
    "    return miscalc/missing"
   ]
  },
  {
   "cell_type": "code",
   "execution_count": 3,
   "id": "c4d02a1e-5f60-4940-b68e-61eed7962a35",
   "metadata": {},
   "outputs": [],
   "source": [
    "markov = markovChain('./train_40k.csv')"
   ]
  },
  {
   "cell_type": "code",
   "execution_count": 4,
   "id": "339c3952-7acf-449b-ab5a-fffeefceb2f6",
   "metadata": {},
   "outputs": [
    {
     "name": "stdout",
     "output_type": "stream",
     "text": [
      "Answer: helloworld \tGuess: he_l_w_r_d \tPredict: hellowered \n",
      "Miscalculation Rate: 0.5 \n",
      "\n",
      "Answer: helloworld \tGuess: hel__w_r_d \tPredict: helsewered \n",
      "Miscalculation Rate: 1.0 \n",
      "\n",
      "Answer: thisisit \tGuess: t_is__it \tPredict: thistsit \n",
      "Miscalculation Rate: 0.3333333333333333 \n",
      "\n",
      "Answer: thisisoberlin \tGuess: t__s_s_b_rlin \tPredict: tnisesaberlin \n",
      "Miscalculation Rate: 0.6 \n",
      "\n"
     ]
    }
   ],
   "source": [
    "answer1  = 'helloworld'\n",
    "string1  = 'he_l_w_r_d'\n",
    "predict1 = markov.guess_word(string1)\n",
    "print(\"Answer:\", answer1, \"\\tGuess:\", string1, \"\\tPredict:\", predict1, \"\\nMiscalculation Rate:\", miscalcRate(predict1, answer1, 4), '\\n')\n",
    "\n",
    "answer2  = 'helloworld'\n",
    "string2  = 'hel__w_r_d'\n",
    "predict2 = markov.guess_word(string2)\n",
    "print(\"Answer:\", answer2, \"\\tGuess:\", string2, \"\\tPredict:\", predict2, \"\\nMiscalculation Rate:\", miscalcRate(predict2, answer2, 4), '\\n')\n",
    "\n",
    "answer3  = 'thisisit'\n",
    "string3  = 't_is__it'\n",
    "predict3 = markov.guess_word(string3)\n",
    "print(\"Answer:\", answer3, \"\\tGuess:\", string3, \"\\tPredict:\", predict3, \"\\nMiscalculation Rate:\", miscalcRate(predict3, answer3, 3), '\\n')\n",
    "\n",
    "answer4  = 'thisisoberlin'\n",
    "string4  = 't__s_s_b_rlin'\n",
    "predict4 = markov.guess_word(string4)\n",
    "print(\"Answer:\", answer4, \"\\tGuess:\", string4, \"\\tPredict:\", predict4, \"\\nMiscalculation Rate:\", miscalcRate(predict4, answer4, 5), '\\n')"
   ]
  },
  {
   "cell_type": "markdown",
   "id": "c7ef11c2-d50c-4259-b3d0-e2ad9d84209e",
   "metadata": {
    "tags": []
   },
   "source": [
    "'''\n",
    "p(letter1|l, o)*p(letter2, letter3|o, r)*p(letter4|r, d)\n",
    "=> p(letter1|l, o)*p(letter2| o)*p(letter3|letter2, r)*p(letter4|r, d)\n",
    "# the forward/barckward problem\n",
    "\"helloworld\"\n",
    "\"hel_o___r_d\" => guess \n",
    "p(l | e)\n",
    "p(x6, x7 | o, r)\n",
    "=> max(p(x6| o)*p(x7| x6)*p(r| x7))\n",
    "p(x1, x2, x3| a, b)\n",
    "=> max(p(x1| a)*p(x2| x1)*p(x3| x2)*p(b| x3))\n",
    "max(p(x4 | x3 = l)*p(x5 = o| x4))\n",
    "p(x5 = o | x4) = \n",
    "'''"
   ]
  }
 ],
 "metadata": {
  "kernelspec": {
   "display_name": "Python 3 (ipykernel)",
   "language": "python",
   "name": "python3"
  },
  "language_info": {
   "codemirror_mode": {
    "name": "ipython",
    "version": 3
   },
   "file_extension": ".py",
   "mimetype": "text/x-python",
   "name": "python",
   "nbconvert_exporter": "python",
   "pygments_lexer": "ipython3",
   "version": "3.8.5"
  }
 },
 "nbformat": 4,
 "nbformat_minor": 5
}
