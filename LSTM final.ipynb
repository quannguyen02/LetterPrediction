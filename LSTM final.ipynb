{
 "cells": [
  {
   "cell_type": "code",
   "execution_count": 1,
   "id": "47ded447-605c-409f-8856-e079944f4d9e",
   "metadata": {},
   "outputs": [
    {
     "name": "stdout",
     "output_type": "stream",
     "text": [
      "Total Characters in the text; corpus length:  13577039\n",
      "Total Vocab:  26\n",
      "Number of sequences: 13577033\n"
     ]
    },
    {
     "name": "stderr",
     "output_type": "stream",
     "text": [
      "2022-01-23 18:05:04.761526: I tensorflow/core/platform/cpu_feature_guard.cc:151] This TensorFlow binary is optimized with oneAPI Deep Neural Network Library (oneDNN) to use the following CPU instructions in performance-critical operations:  AVX2 FMA\n",
      "To enable them in other operations, rebuild TensorFlow with the appropriate compiler flags.\n"
     ]
    },
    {
     "name": "stdout",
     "output_type": "stream",
     "text": [
      "Model: \"sequential\"\n",
      "_________________________________________________________________\n",
      " Layer (type)                Output Shape              Param #   \n",
      "=================================================================\n",
      " lstm (LSTM)                 (None, 128)               79360     \n",
      "                                                                 \n",
      " dense (Dense)               (None, 26)                3354      \n",
      "                                                                 \n",
      "=================================================================\n",
      "Total params: 82,714\n",
      "Trainable params: 82,714\n",
      "Non-trainable params: 0\n",
      "_________________________________________________________________\n"
     ]
    }
   ],
   "source": [
    "from keras.models import Sequential\n",
    "from keras.layers import Dense, Dropout, LSTM\n",
    "# from keras.optimizers import RMSprop\n",
    "import numpy as np\n",
    "import random\n",
    "import sys\n",
    "import string\n",
    "from string import punctuation\n",
    "\n",
    "#LOAD TEXT\n",
    "#Save notepad as UTF-8 (select from dropdown during saving)\n",
    "filename = \"./train_40k.csv\"\n",
    "raw_text = open(filename, 'r', encoding='utf-8').read()\n",
    "raw_text = raw_text.lower()\n",
    "\n",
    "#CLEAN TEXT\n",
    "raw_text = ''.join(c for c in raw_text if c in string.ascii_lowercase)\n",
    "\n",
    "#How many total characters do we have in our training text?\n",
    "chars = sorted(list(set(raw_text))) #List of every character\n",
    "\n",
    "#Each unique character will be assigned an integer value. \n",
    "#Create a dictionary of characters mapped to integer values\n",
    "char_to_int = dict((c, i) for i, c in enumerate(chars))\n",
    "\n",
    "#Do the reverse so we can print our predictions in characters and not integers\n",
    "int_to_char = dict((i, c) for i, c in enumerate(chars))\n",
    "\n",
    "# summarize the data\n",
    "n_chars = len(raw_text)\n",
    "n_vocab = len(chars)\n",
    "print(\"Total Characters in the text; corpus length: \", n_chars)\n",
    "print(\"Total Vocab: \", n_vocab)\n",
    "\n",
    "\n",
    "seq_length = 6  #Length of each input sequence\n",
    "step = 1   #Instead of moving 1 letter at a time, try skipping a few. \n",
    "sentences = []    # X values (Sentences)\n",
    "next_chars = []   # Y values. The character that follows the sentence defined as X\n",
    "for i in range(0, n_chars - seq_length, step):  #step=1 means each sentence is offset just by a single letter\n",
    "    sentences.append(raw_text[i: i + seq_length])  #Sequence in\n",
    "    next_chars.append(raw_text[i + seq_length])  #Sequence out\n",
    "n_patterns = len(sentences)    \n",
    "print('Number of sequences:', n_patterns)\n",
    "\n",
    "x = np.zeros((len(sentences), seq_length, n_vocab), dtype= bool)\n",
    "y = np.zeros((len(sentences), n_vocab), dtype= bool)\n",
    "for i, sentence in enumerate(sentences):\n",
    "    for t, char in enumerate(sentence):\n",
    "        x[i, t, char_to_int[char]] = 1\n",
    "    y[i, char_to_int[next_chars[i]]] = 1\n",
    "    \n",
    "model = Sequential()\n",
    "model.add(LSTM(128, input_shape=(seq_length, n_vocab)))\n",
    "model.add(Dense(n_vocab, activation='softmax'))\n",
    "\n",
    "# optimizer = RMSprop(lr=0.01)\n",
    "model.compile(loss='categorical_crossentropy')\n",
    "model.summary()\n",
    "\n",
    "# define the checkpoint\n",
    "from keras.callbacks import ModelCheckpoint\n",
    "\n",
    "filepath=\"saved_weights/saved_weights-{epoch:02d}-{loss:.4f}.hdf5\"\n",
    "checkpoint = ModelCheckpoint(filepath, monitor='loss', verbose=1, save_best_only=True, mode='min')\n",
    "\n",
    "callbacks_list = [checkpoint]"
   ]
  },
  {
   "cell_type": "code",
   "execution_count": 2,
   "id": "c3f4598a-ce89-43ff-b4fa-9f274f1d511b",
   "metadata": {},
   "outputs": [
    {
     "name": "stdout",
     "output_type": "stream",
     "text": [
      "106070/106071 [============================>.] - ETA: 0s - loss: 1.7917\n",
      "Epoch 00001: loss improved from inf to 1.79167, saving model to saved_weights/saved_weights-01-1.7917.hdf5\n",
      "106071/106071 [==============================] - 837s 8ms/step - loss: 1.7917\n"
     ]
    }
   ],
   "source": [
    "# Fit the model\n",
    "history = model.fit(x, y, batch_size=128, epochs=1, callbacks=callbacks_list)\n",
    "model.save('save_epochs_lstm_model.h5')"
   ]
  },
  {
   "cell_type": "code",
   "execution_count": 9,
   "id": "f2562cdc-3bf4-4bab-bc32-132904721cbd",
   "metadata": {
    "tags": []
   },
   "outputs": [],
   "source": [
    "def sample(preds):\n",
    "    preds = np.asarray(preds).astype('float64')\n",
    "    preds = np.log(preds)\n",
    "    exp_preds = np.exp(preds) \n",
    "    preds = exp_preds / np.sum(exp_preds)\n",
    "    probas = np.random.multinomial(1, preds, 1) \n",
    "    return np.argmax(probas)\n",
    "\n",
    "#Prediction\n",
    "# load the network weights\n",
    "filename = \"save_epochs_lstm_model.h5\"\n",
    "model.load_weights(filename)\n",
    "\n",
    "def generateText(sentence, seq_length, n_vocab, model, int_to_char, sample, length):\n",
    "    generated = ''\n",
    "    generated += sentence\n",
    "    for i in range(length):  \n",
    "        x_pred = np.zeros((1, seq_length, n_vocab))\n",
    "        for t, char in enumerate(sentence):\n",
    "            x_pred[0, t, char_to_int[char]] = 1.\n",
    "\n",
    "        preds = model.predict(x_pred, verbose=0)[0]\n",
    "        next_index = sample(preds)\n",
    "        next_char = int_to_char[next_index]\n",
    "\n",
    "        generated += next_char\n",
    "        sentence = sentence[1:] + next_char\n",
    "    return generated"
   ]
  },
  {
   "cell_type": "code",
   "execution_count": 11,
   "id": "572d8c6a-1663-418c-925c-7c3fc4becffc",
   "metadata": {},
   "outputs": [],
   "source": [
    "def miscalcRate(sentence, answer, missing):\n",
    "    miscalc = 0\n",
    "    if (len(sentence) != len(answer)):\n",
    "        print(\"2 strings need to have same length\")\n",
    "        return\n",
    "    for i in range(len(sentence)):\n",
    "        if (sentence[i] != answer[i]):\n",
    "            miscalc+=1\n",
    "    return miscalc/missing"
   ]
  },
  {
   "cell_type": "code",
   "execution_count": 15,
   "id": "7f41696c-6105-455c-871b-117328c999c1",
   "metadata": {},
   "outputs": [
    {
     "name": "stdout",
     "output_type": "stream",
     "text": [
      "Answer: helloworld \tGuess: hellow \tPredict: hellowacxa \n",
      "Miscalculation Rate: 1.0 \n",
      "\n",
      "Answer: thisisit \tGuess: thisis \tPredict: thisisre \n",
      "Miscalculation Rate: 1.0 \n",
      "\n",
      "Answer: thisisoberlin \tGuess: thisis \tPredict: thisisstillal \n",
      "Miscalculation Rate: 0.8571428571428571 \n",
      "\n"
     ]
    }
   ],
   "source": [
    "answer1  = 'helloworld'\n",
    "string1  = 'hellow'\n",
    "predict1 = generateText(string1, seq_length, n_vocab, model, int_to_char, sample, 4)\n",
    "print(\"Answer:\", answer1, \"\\tGuess:\", string1, \"\\tPredict:\", predict1, \"\\nMiscalculation Rate:\", miscalcRate(predict1, answer1, 4), '\\n')\n",
    "\n",
    "answer2  = 'thisisit'\n",
    "string2  = 'thisis'\n",
    "predict2 = generateText(string2, seq_length, n_vocab, model, int_to_char, sample, 2)\n",
    "print(\"Answer:\", answer2, \"\\tGuess:\", string2, \"\\tPredict:\", predict2, \"\\nMiscalculation Rate:\", miscalcRate(predict2, answer2, 2), '\\n')\n",
    "\n",
    "answer3  = 'thisisoberlin'\n",
    "string3  = 'thisis'\n",
    "predict3 = generateText(string3, seq_length, n_vocab, model, int_to_char, sample, 7)\n",
    "print(\"Answer:\", answer3, \"\\tGuess:\", string3, \"\\tPredict:\", predict3, \"\\nMiscalculation Rate:\", miscalcRate(predict3, answer3, 7), '\\n')"
   ]
  },
  {
   "cell_type": "markdown",
   "id": "867d8d9c-ea8c-4b8f-9110-65cdad21e527",
   "metadata": {},
   "source": [
    "We use the model implemented by Dr. Sreenivas Bhattiprolu "
   ]
  },
  {
   "cell_type": "code",
   "execution_count": null,
   "id": "612846ac-c396-4e36-a7f8-cefe59e5c7ca",
   "metadata": {},
   "outputs": [],
   "source": []
  }
 ],
 "metadata": {
  "kernelspec": {
   "display_name": "Python 3 (ipykernel)",
   "language": "python",
   "name": "python3"
  },
  "language_info": {
   "codemirror_mode": {
    "name": "ipython",
    "version": 3
   },
   "file_extension": ".py",
   "mimetype": "text/x-python",
   "name": "python",
   "nbconvert_exporter": "python",
   "pygments_lexer": "ipython3",
   "version": "3.8.5"
  }
 },
 "nbformat": 4,
 "nbformat_minor": 5
}
